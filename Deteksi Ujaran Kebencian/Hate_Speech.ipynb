{
  "nbformat": 4,
  "nbformat_minor": 0,
  "metadata": {
    "colab": {
      "name": "Hate Speech.ipynb",
      "provenance": [],
      "authorship_tag": "ABX9TyPXmXmtFl7w9HvZaRkOa83n",
      "include_colab_link": true
    },
    "kernelspec": {
      "name": "python3",
      "display_name": "Python 3"
    }
  },
  "cells": [
    {
      "cell_type": "markdown",
      "metadata": {
        "id": "view-in-github",
        "colab_type": "text"
      },
      "source": [
        "<a href=\"https://colab.research.google.com/github/ihsanmauri/Telkom-DTI/blob/master/Hate_Speech.ipynb\" target=\"_parent\"><img src=\"https://colab.research.google.com/assets/colab-badge.svg\" alt=\"Open In Colab\"/></a>"
      ]
    },
    {
      "cell_type": "markdown",
      "metadata": {
        "id": "jygW1ORJ5wpz"
      },
      "source": [
        "# **Deteksi Ujaran Kebencian**\n",
        "\n",
        "Dataset ini mengandung sejumlah kata-kata yang mengundang HS dan non_HS yang artinya Hate Speech dan Non Hate Speech secara berturut-turut. Data ini diambil dari laman [github](https://github.com/ialfina/id-hatespeech-detection) ini. \n",
        "\n",
        "Kemudian dari data-data tersebut perlu dibuatkan model untuk memprediksi apakah hasil akan dapat HS atau non_HS\n"
      ]
    },
    {
      "cell_type": "markdown",
      "metadata": {
        "id": "yDv8GjP56uHd"
      },
      "source": [
        "# **Explorasi Data**"
      ]
    },
    {
      "cell_type": "code",
      "metadata": {
        "id": "fWH_J8oi4Ufl",
        "colab": {
          "base_uri": "https://localhost:8080/"
        },
        "outputId": "4640880a-9caa-4033-8af2-627b8ed3c4e9"
      },
      "source": [
        "#Load the libraries\n",
        "import numpy as np\n",
        "import pandas as pd\n",
        "import seaborn as sns\n",
        "import matplotlib.pyplot as plt\n",
        "import nltk\n",
        "nltk.download('stopwords')\n",
        "from nltk.corpus import stopwords\n",
        "from bs4 import BeautifulSoup\n",
        "\n",
        "import warnings\n",
        "warnings.filterwarnings('ignore')"
      ],
      "execution_count": 66,
      "outputs": [
        {
          "output_type": "stream",
          "text": [
            "[nltk_data] Downloading package stopwords to /root/nltk_data...\n",
            "[nltk_data]   Package stopwords is already up-to-date!\n"
          ],
          "name": "stdout"
        }
      ]
    },
    {
      "cell_type": "code",
      "metadata": {
        "colab": {
          "base_uri": "https://localhost:8080/",
          "height": 0
        },
        "id": "4WzkWzqD31f9",
        "outputId": "1bf1194b-6d44-4dfd-9ffc-f306047a7fa0"
      },
      "source": [
        "df = pd.read_table('https://raw.githubusercontent.com/ihsanmauri/Telkom-DTI/master/Deteksi%20Ujaran%20Kebencian/IDHSD_RIO_unbalanced_713_2017.txt')\n",
        "df.head()"
      ],
      "execution_count": 67,
      "outputs": [
        {
          "output_type": "execute_result",
          "data": {
            "text/html": [
              "<div>\n",
              "<style scoped>\n",
              "    .dataframe tbody tr th:only-of-type {\n",
              "        vertical-align: middle;\n",
              "    }\n",
              "\n",
              "    .dataframe tbody tr th {\n",
              "        vertical-align: top;\n",
              "    }\n",
              "\n",
              "    .dataframe thead th {\n",
              "        text-align: right;\n",
              "    }\n",
              "</style>\n",
              "<table border=\"1\" class=\"dataframe\">\n",
              "  <thead>\n",
              "    <tr style=\"text-align: right;\">\n",
              "      <th></th>\n",
              "      <th>Label</th>\n",
              "      <th>Tweet</th>\n",
              "    </tr>\n",
              "  </thead>\n",
              "  <tbody>\n",
              "    <tr>\n",
              "      <th>0</th>\n",
              "      <td>Non_HS</td>\n",
              "      <td>RT @spardaxyz: Fadli Zon Minta Mendagri Segera...</td>\n",
              "    </tr>\n",
              "    <tr>\n",
              "      <th>1</th>\n",
              "      <td>Non_HS</td>\n",
              "      <td>RT @baguscondromowo: Mereka terus melukai aksi...</td>\n",
              "    </tr>\n",
              "    <tr>\n",
              "      <th>2</th>\n",
              "      <td>Non_HS</td>\n",
              "      <td>Sylvi: bagaimana gurbernur melakukan kekerasan...</td>\n",
              "    </tr>\n",
              "    <tr>\n",
              "      <th>3</th>\n",
              "      <td>Non_HS</td>\n",
              "      <td>Ahmad Dhani Tak Puas Debat Pilkada, Masalah Ja...</td>\n",
              "    </tr>\n",
              "    <tr>\n",
              "      <th>4</th>\n",
              "      <td>Non_HS</td>\n",
              "      <td>RT @lisdaulay28: Waspada KTP palsu.....kawal P...</td>\n",
              "    </tr>\n",
              "  </tbody>\n",
              "</table>\n",
              "</div>"
            ],
            "text/plain": [
              "    Label                                              Tweet\n",
              "0  Non_HS  RT @spardaxyz: Fadli Zon Minta Mendagri Segera...\n",
              "1  Non_HS  RT @baguscondromowo: Mereka terus melukai aksi...\n",
              "2  Non_HS  Sylvi: bagaimana gurbernur melakukan kekerasan...\n",
              "3  Non_HS  Ahmad Dhani Tak Puas Debat Pilkada, Masalah Ja...\n",
              "4  Non_HS  RT @lisdaulay28: Waspada KTP palsu.....kawal P..."
            ]
          },
          "metadata": {
            "tags": []
          },
          "execution_count": 67
        }
      ]
    },
    {
      "cell_type": "code",
      "metadata": {
        "colab": {
          "base_uri": "https://localhost:8080/"
        },
        "id": "JMsmfo9u4028",
        "outputId": "874f6223-fc3a-4e66-afd4-5694eb9907d0"
      },
      "source": [
        "df.info()"
      ],
      "execution_count": 68,
      "outputs": [
        {
          "output_type": "stream",
          "text": [
            "<class 'pandas.core.frame.DataFrame'>\n",
            "RangeIndex: 713 entries, 0 to 712\n",
            "Data columns (total 2 columns):\n",
            " #   Column  Non-Null Count  Dtype \n",
            "---  ------  --------------  ----- \n",
            " 0   Label   713 non-null    object\n",
            " 1   Tweet   713 non-null    object\n",
            "dtypes: object(2)\n",
            "memory usage: 11.3+ KB\n"
          ],
          "name": "stdout"
        }
      ]
    },
    {
      "cell_type": "code",
      "metadata": {
        "colab": {
          "base_uri": "https://localhost:8080/"
        },
        "id": "aTPJX8qmHhoI",
        "outputId": "44056761-7bd1-4d2b-9ade-7a1e761c9c7c"
      },
      "source": [
        "df['Label'].value_counts()"
      ],
      "execution_count": 69,
      "outputs": [
        {
          "output_type": "execute_result",
          "data": {
            "text/plain": [
              "Non_HS    453\n",
              "HS        260\n",
              "Name: Label, dtype: int64"
            ]
          },
          "metadata": {
            "tags": []
          },
          "execution_count": 69
        }
      ]
    },
    {
      "cell_type": "code",
      "metadata": {
        "colab": {
          "base_uri": "https://localhost:8080/",
          "height": 0
        },
        "id": "K7K0rGXYHrc1",
        "outputId": "73f5c3aa-ea06-4738-af46-16750dd746c5"
      },
      "source": [
        "plt.figure(figsize=(14, 7))\n",
        "plt.title('Jumlah HS dan non_HS')\n",
        "sns.countplot(x = df['Label'])\n",
        "plt.show()"
      ],
      "execution_count": 70,
      "outputs": [
        {
          "output_type": "display_data",
          "data": {
            "image/png": "[encoded data removed]",
            "text/plain": [
              "<Figure size 1008x504 with 1 Axes>"
            ]
          },
          "metadata": {
            "tags": [],
            "needs_background": "light"
          }
        }
      ]
    },
    {
      "cell_type": "markdown",
      "metadata": {
        "id": "R5CdTsO-7GCA"
      },
      "source": [
        "Dari bar chart di atas dapat disimpulkan bahwa non_HS lebih banyak daripada HS"
      ]
    },
    {
      "cell_type": "markdown",
      "metadata": {
        "id": "F6ofkj2l-VWg"
      },
      "source": [
        "# **Pembagian Data Training dan Test**"
      ]
    },
    {
      "cell_type": "code",
      "metadata": {
        "id": "NLJMIg2M-Yvo",
        "colab": {
          "base_uri": "https://localhost:8080/"
        },
        "outputId": "5b4e29b3-07bc-4457-9b98-87aa25f25a31"
      },
      "source": [
        "#split the dataset into 70% for training and the rest for the test\n",
        "#train dataset\n",
        "train_Tweets=df.Tweet[:499]\n",
        "train_Labels=df.Label[:499]\n",
        "#test dataset\n",
        "test_Tweets=df.Tweet[499:]\n",
        "test_Labels=df.Label[499:]\n",
        "print(train_Tweets.shape,train_Labels.shape)\n",
        "print(test_Tweets.shape,test_Labels.shape)"
      ],
      "execution_count": 71,
      "outputs": [
        {
          "output_type": "stream",
          "text": [
            "(499,) (499,)\n",
            "(214,) (214,)\n"
          ],
          "name": "stdout"
        }
      ]
    },
    {
      "cell_type": "markdown",
      "metadata": {
        "id": "Ej3muz81pCNU"
      },
      "source": [
        "# **Data Cleansing**"
      ]
    },
    {
      "cell_type": "markdown",
      "metadata": {
        "id": "tPBQ0Hyb_2Qa"
      },
      "source": [
        "Text Normalization"
      ]
    },
    {
      "cell_type": "code",
      "metadata": {
        "id": "5TfkFA12_4Rz"
      },
      "source": [
        "#Tokenization of text\n",
        "tokenizer=ToktokTokenizer()\n",
        "#Setting English stopwords\n",
        "stopword_list=nltk.corpus.stopwords.words('indonesian')"
      ],
      "execution_count": 72,
      "outputs": []
    },
    {
      "cell_type": "code",
      "metadata": {
        "id": "pq-lgtRZolUx"
      },
      "source": [
        "def remove_user(text):\n",
        "  text = text.replace('\\\\t',\" \").replace('\\\\n',\" \").replace('\\\\u',\" \").replace('\\\\',\"\")\n",
        "  text = text.encode('ascii', 'replace').decode('ascii')\n",
        "  text = ' '.join(re.sub(\"([@#][A-Za-z0-9]+)|(\\w+:\\/\\/\\S+)\",\" \", text).split())\n",
        "  return text.replace(\"http://\", \" \").replace(\"https://\", \" \")\n",
        "\n",
        "df['Tweet'] = df['Tweet'].apply(remove_user)"
      ],
      "execution_count": 73,
      "outputs": []
    },
    {
      "cell_type": "markdown",
      "metadata": {
        "id": "mw3DqdqXA1GE"
      },
      "source": [
        "Removing html strips and noise text"
      ]
    },
    {
      "cell_type": "code",
      "metadata": {
        "id": "B2rKL5vTA20_"
      },
      "source": [
        "#Removing the html strips\n",
        "def strip_html(text):\n",
        "    soup = BeautifulSoup(text, \"html.parser\")\n",
        "    return soup.get_text()\n",
        "\n",
        "#Removing the square brackets\n",
        "def remove_between_square_brackets(text):\n",
        "    return re.sub('\\[[^]]*\\]', '', text)\n",
        "\n",
        "#Removing the noisy text\n",
        "def denoise_text(text):\n",
        "    text = strip_html(text)\n",
        "    text = remove_between_square_brackets(text)\n",
        "    return text\n",
        "#Apply function on review column\n",
        "df['Tweet']=df['Tweet'].apply(denoise_text)"
      ],
      "execution_count": 74,
      "outputs": []
    },
    {
      "cell_type": "markdown",
      "metadata": {
        "id": "cOaDCdR3A-L7"
      },
      "source": [
        "\n",
        "\n",
        "Removing special characters\n"
      ]
    },
    {
      "cell_type": "code",
      "metadata": {
        "id": "BS7vP2KBBCsC"
      },
      "source": [
        "#Define function for removing special characters\n",
        "def remove_special_characters(text, remove_digits=True):\n",
        "    pattern=r'[^a-zA-z0-9\\s]'\n",
        "    text=re.sub(pattern,'',text)\n",
        "    return text\n",
        "#Apply function on review column\n",
        "df['Tweet']=df['Tweet'].apply(remove_special_characters)"
      ],
      "execution_count": 75,
      "outputs": []
    },
    {
      "cell_type": "markdown",
      "metadata": {
        "id": "S1MB1lkAA-S9"
      },
      "source": [
        "Text stemming"
      ]
    },
    {
      "cell_type": "code",
      "metadata": {
        "id": "w-iXUYPiBEs7"
      },
      "source": [
        "#Stemming the text\n",
        "def simple_stemmer(text):\n",
        "    ps=nltk.porter.PorterStemmer()\n",
        "    text= ' '.join([ps.stem(word) for word in text.split()])\n",
        "    return text\n",
        "#Apply function on review column\n",
        "df['Tweet']=df['Tweet'].apply(simple_stemmer)"
      ],
      "execution_count": 76,
      "outputs": []
    },
    {
      "cell_type": "markdown",
      "metadata": {
        "id": "o1g0qOPXA-Z7"
      },
      "source": [
        "\n",
        "\n",
        "Removing stopwords\n"
      ]
    },
    {
      "cell_type": "code",
      "metadata": {
        "colab": {
          "base_uri": "https://localhost:8080/"
        },
        "id": "pv3z5YsPBGOP",
        "outputId": "f272eddf-9f4d-4f5c-aa51-9414159bfcb9"
      },
      "source": [
        "#set stopwords to english\n",
        "stop=set(stopwords.words('indonesian'))\n",
        "print(stop)\n",
        "\n",
        "#removing the stopwords\n",
        "def remove_stopwords(text, is_lower_case=False):\n",
        "    tokens = tokenizer.tokenize(text)\n",
        "    tokens = [token.strip() for token in tokens]\n",
        "    if is_lower_case:\n",
        "        filtered_tokens = [token for token in tokens if token not in stopword_list]\n",
        "    else:\n",
        "        filtered_tokens = [token for token in tokens if token.lower() not in stopword_list]\n",
        "    filtered_text = ' '.join(filtered_tokens)    \n",
        "    return filtered_text\n",
        "#Apply function on review column\n",
        "df['Tweet']=df['Tweet'].apply(remove_stopwords)"
      ],
      "execution_count": 77,
      "outputs": [
        {
          "output_type": "stream",
          "text": [
            "{'benarkah', 'dimaksudkannya', 'rasanya', 'mengungkapkan', 'umumnya', 'teringat', 'perlunya', 'sedangkan', 'ditunjukkan', 'lalu', 'agaknya', 'begitulah', 'jikalau', 'pihak', 'menjadi', 'jawab', 'akhirnya', 'sebisanya', 'mempersiapkan', 'tadi', 'sekitarnya', 'maka', 'ke', 'sudah', 'ia', 'boleh', 'memperlihatkan', 'kala', 'bulan', 'ingin', 'benarlah', 'termasuk', 'ditandaskan', 'kamilah', 'lainnya', 'kemudian', 'sesuatu', 'wong', 'diungkapkan', 'ini', 'harusnya', 'apabila', 'tutur', 'berkenaan', 'lewat', 'dapat', 'saya', 'mereka', 'betulkah', 'semua', 'disebut', 'disebutkannya', 'kembali', 'berarti', 'sebuah', 'tampak', 'kesampaian', 'kelihatan', 'diri', 'yang', 'merasa', 'dikerjakan', 'enggaknya', 'belumlah', 'bekerja', 'disebutkan', 'masing', 'apakah', 'menunjukkan', 'buat', 'semata-mata', 'antaranya', 'yakin', 'berujar', 'kepada', 'kasus', 'jumlahnya', 'tiba-tiba', 'dahulu', 'sebut', 'seketika', 'tegasnya', 'apatah', 'waduh', 'misalkan', 'beginian', 'sebesar', 'ditanyakan', 'perlu', 'sejauh', 'memulai', 'tidaklah', 'kan', 'mendatangi', 'per', 'meskipun', 'inikah', 'berikutnya', 'selaku', 'pentingnya', 'makanya', 'diucapkannya', 'kalaulah', 'enggak', 'sambil', 'kecil', 'juga', 'ucapnya', 'pukul', 'jangan', 'menanti', 'dengan', 'amat', 'semata', 'masihkah', 'akankah', 'dong', 'melihatnya', 'tiba', 'sama', 'ibarat', 'itu', 'bolehlah', 'bilakah', 'kenapa', 'sejak', 'sekurang-kurangnya', 'ditanyai', 'entahlah', 'bila', 'tiap', 'bermula', 'seberapa', 'kemungkinannya', 'hanya', 'mengapa', 'adapun', 'pastilah', 'waktu', 'menanya', 'sekecil', 'ditambahkan', 'sesudah', 'lanjut', 'bermaksud', 'bersiap', 'berapalah', 'tetapi', 'seterusnya', 'penting', 'diberikan', 'dipunyai', 'pernah', 'ditegaskan', 'siapapun', 'hendaklah', 'digunakan', 'memisalkan', 'meyakinkan', 'sewaktu', 'terjadi', 'mana', 'kita', 'sesegera', 'berkeinginan', 'bahkan', 'lima', 'malahan', 'kami', 'lagian', 'waktunya', 'begini', 'percuma', 'sampaikan', 'tahun', 'atas', 'tentang', 'pak', 'kapanpun', 'menunjuki', 'sana', 'berawal', 'setinggi', 'itukah', 'meski', 'sesama', 'karena', 'merupakan', 'sebelumnya', 'sebutnya', 'meyakini', 'aku', 'diperbuat', 'sebab', 'jadinya', 'katakanlah', 'dikira', 'sekalian', 'sangatlah', 'hal', 'persoalan', 'antara', 'pantas', 'bisa', 'tersebut', 'ataukah', 'sama-sama', 'dilalui', 'saatnya', 'menjawab', 'cukup', 'membuat', 'dialah', 'balik', 'kira', 'kelihatannya', 'bung', 'menyiapkan', 'pertama-tama', 'terjadilah', 'dimisalkan', 'hampir', 'dilihat', 'terkira', 'walaupun', 'dikarenakan', 'mengira', 'sajalah', 'teringat-ingat', 'semula', 'hendak', 'selalu', 'jelaslah', 'cukuplah', 'mau', 'sampai-sampai', 'secara', 'sepantasnya', 'terdapat', 'terhadap', 'mula', 'berkehendak', 'terlalu', 'berapakah', 'justru', 'lama', 'lamanya', 'perlukah', 'mempertanyakan', 'mirip', 'kitalah', 'ketika', 'setidaknya', 'diperkirakan', 'berlebihan', 'semampunya', 'berjumlah', 'nyatanya', 'beginikah', 'jelas', 'bersama-sama', 'akhiri', 'dimaksudkan', 'hanyalah', 'sejenak', 'itulah', 'sementara', 'bahwasanya', 'memang', 'mampu', 'masa', 'sebagaimana', 'semuanya', 'khususnya', 'sudahlah', 'selamanya', 'inilah', 'setidak-tidaknya', 'melalui', 'masalah', 'setibanya', 'macam', 'bersama', 'jadi', 'empat', 'malah', 'lagi', 'mungkinkah', 'mengenai', 'menuju', 'beberapa', 'jauh', 'disinilah', 'dituturkannya', 'paling', 'seolah-olah', 'tanyakan', 'sekadarnya', 'sendiri', 'kok', 'mengibaratkan', 'dijawab', 'kini', 'sendirinya', 'memberi', 'berturut-turut', 'diperlukan', 'dijelaskan', 'ditunjuknya', 'disampaikan', 'berada', 'bermacam', 'rata', 'seperti', 'gunakan', 'dekat', 'bakalan', 'memperkirakan', 'diperlukannya', 'berapa', 'mengatakannya', 'ternyata', 'sedikit', 'awalnya', 'kamu', 'lanjutnya', 'harus', 'minta', 'sekitar', 'yakni', 'bukanlah', 'diperbuatnya', 'kapankah', 'entah', 'memintakan', 'olehnya', 'tersampaikan', 'terasa', 'sedemikian', 'segala', 'semasa', 'sekali', 'seseorang', 'keseluruhannya', 'tegas', 'soal', 'terlihat', 'rasa', 'kalau', 'diperlihatkan', 'menyebutkan', 'dirinya', 'para', 'sebagai', 'tengah', 'dipersoalkan', 'pertama', 'sekali-kali', 'tambah', 'banyak', 'berlainan', 'di', 'begitukah', 'sebabnya', 'bahwa', 'bawah', 'sebegitu', 'menambahkan', 'sedikitnya', 'katanya', 'guna', 'seharusnya', 'ditanya', 'seingat', 'cuma', 'tandas', 'berupa', 'sepantasnyalah', 'dan', 'berikan', 'bukankah', 'keduanya', 'mungkin', 'menegaskan', 'menanyakan', 'beginilah', 'dini', 'lah', 'kemungkinan', 'hingga', 'kalaupun', 'artinya', 'terus', 'dilakukan', 'atau', 'sepertinya', 'diberi', 'dimungkinkan', 'mempunyai', 'bakal', 'untuk', 'saja', 'mengatakan', 'datang', 'beri', 'tiga', 'bertanya-tanya', 'bolehkah', 'maupun', 'bagaikan', 'saling', 'tempat', 'bagai', 'begitupun', 'melainkan', 'nanti', 'setengah', 'keadaan', 'sayalah', 'jadilah', 'kiranya', 'akhir', 'sebaik-baiknya', 'kebetulan', 'tertentu', 'dipertanyakan', 'depan', 'menyatakan', 'bagian', 'hari', 'akulah', 'bagi', 'toh', 'terjadinya', 'diketahui', 'mempergunakan', 'panjang', 'andalah', 'biasa', 'tadinya', 'diberikannya', 'ialah', 'janganlah', 'sering', 'dibuatnya', 'katakan', 'tapi', 'seringnya', 'amatlah', 'sebutlah', 'sebanyak', 'sinilah', 'memerlukan', 'berturut', 'diucapkan', 'jumlah', 'tandasnya', 'ikut', 'usai', 'dimulainya', 'jawabnya', 'berkata', 'berapapun', 'dijelaskannya', 'demikian', 'masalahnya', 'jika', 'kelima', 'tidak', 'menjelaskan', 'tetap', 'setiba', 'dibuat', 'dari', 'dimulailah', 'sekiranya', 'bagaimanakah', 'mulailah', 'tunjuk', 'selama-lamanya', 'tertuju', 'kamulah', 'sini', 'adalah', 'diinginkan', 'luar', 'demi', 'mengucapkan', 'turut', 'oleh', 'belum', 'sekalipun', 'siapa', 'dulu', 'menyampaikan', 'akan', 'jelasnya', 'dua', 'soalnya', 'bisakah', 'belakang', 'ditunjuki', 'segera', 'mendapat', 'ada', 'tambahnya', 'hendaknya', 'seusai', 'agak', 'bagaimana', 'daripada', 'demikianlah', 'didapat', 'diingatkan', 'tak', 'terdiri', 'sedang', 'manalagi', 'baru', 'seolah', 'berakhirnya', 'menandaskan', 'ataupun', 'bagaimanapun', 'memihak', 'dikatakan', 'menginginkan', 'ibaratkan', 'wah', 'telah', 'tuturnya', 'seenaknya', 'selain', 'kepadanya', 'sesuatunya', 'lain', 'dimaksudnya', 'padahal', 'ditujukan', 'sesampai', 'menyangkut', 'tentunya', 'benar', 'jangankan', 'menunjuk', 'punya', 'biasanya', 'semisal', 'besar', 'sebaik', 'tanya', 'supaya', 'didatangkan', 'sehingga', 'yaitu', 'mendatangkan', 'baik', 'berkali-kali', 'se', 'tanyanya', 'terakhir', 'karenanya', 'mengingat', 'menurut', 'seperlunya', 'semasih', 'sekadar', 'caranya', 'manakala', 'semisalnya', 'kira-kira', 'sebenarnya', 'dipergunakan', 'berdatangan', 'pihaknya', 'lebih', 'masing-masing', 'mulai', 'sekarang', 'ucap', 'asal', 'bukan', 'dipastikan', 'selama', 'semacam', 'belakangan', 'tanpa', 'ibaratnya', 'ingat-ingat', 'pada', 'sejumlah', 'sampai', 'bukannya', 'haruslah', 'bertutur', 'kinilah', 'segalanya', 'inginkan', 'mengibaratkannya', 'merekalah', 'terbanyak', 'diminta', 'sebaiknya', 'padanya', 'cara', 'berakhirlah', 'misalnya', 'ungkap', 'walau', 'mengetahui', 'menanti-nanti', 'serupa', 'serta', 'sekaligus', 'tepat', 'melakukan', 'ungkapnya', 'asalkan', 'diakhirinya', 'bertanya', 'setiap', 'namun', 'mengingatkan', 'makin', 'memperbuat', 'semaunya', 'begitu', 'apa', 'kedua', 'mendapatkan', 'mulanya', 'tidakkah', 'pertanyakan', 'setelah', 'tentulah', 'sebetulnya', 'dimintai', 'diibaratkan', 'bermacam-macam', 'menyeluruh', 'terdahulu', 'keterlaluan', 'diantara', 'agar', 'nah', 'ditunjukkannya', 'sebaliknya', 'seluruhnya', 'menanyai', 'seluruh', 'semampu', 'apalagi', 'sudahkah', 'semakin', 'sesaat', 'memberikan', 'tampaknya', 'kalian', 'keseluruhan', 'dia', 'terutama', 'sela', 'mengakhiri', 'sangat', 'berikut', 'diibaratkannya', 'umum', 'kelamaan', 'adanya', 'sesudahnya', 'cukupkah', 'berlalu', 'usah', 'memastikan', 'memungkinkan', 'berlangsung', 'dimaksud', 'suatu', 'ujar', 'menaiki', 'naik', 'awal', 'pasti', 'sekurangnya', 'dikatakannya', 'menantikan', 'sesekali', 'tersebutlah', 'dalam', 'berbagai', 'mengucapkannya', 'mengerjakan', 'bersiap-siap', 'siap', 'antar', 'tahu', 'diingat', 'anda', 'melihat', 'wahai', 'mendatang', 'ibu', 'ujarnya', 'tinggi', 'sendirian', 'masih', 'menggunakan', 'siapakah', 'nantinya', 'sebegini', 'seorang', 'keluar', 'sebagainya', 'keinginan', 'ingat', 'kata', 'menuturkan', 'diakhiri', 'mempersoalkan', 'pula', 'rupanya', 'dituturkan', 'diketahuinya', 'selanjutnya', 'setempat', 'sepihak', 'nyaris', 'kurang', 'tentu', 'terlebih', 'bapak', 'mampukah', 'ditunjuk', 'meminta', 'apaan', 'menunjuknya', 'betul', 'menghendaki', 'diantaranya', 'jawaban', 'secukupnya', 'disini', 'satu', 'inginkah', 'pun', 'sempat', 'sebelum', 'sebagian', 'saat', 'terhadapnya', 'pertanyaan', 'sepanjang', 'dimulai', 'kapan', 'misal', 'jelaskan', 'berakhir'}\n"
          ],
          "name": "stdout"
        }
      ]
    },
    {
      "cell_type": "markdown",
      "metadata": {
        "id": "DUAd576mBZ7L"
      },
      "source": [
        "Normalized train reviews"
      ]
    },
    {
      "cell_type": "code",
      "metadata": {
        "colab": {
          "base_uri": "https://localhost:8080/",
          "height": 0
        },
        "id": "hosGuNKqBZYR",
        "outputId": "e0790a85-fbce-41bf-9f2c-564b09b1ba6d"
      },
      "source": [
        "#normalized train Tweets\n",
        "norm_train_Tweets=df.Tweet[:499]\n",
        "norm_train_Tweets[0]\n",
        "#convert dataframe to string\n",
        "#norm_train_string=norm_train_Tweets.to_string()\n",
        "#Spelling correction using Textblob\n",
        "#norm_train_spelling=TextBlob(norm_train_string)\n",
        "#norm_train_spelling.correct()\n",
        "#Tokenization using Textblob\n",
        "#norm_train_words=norm_train_spelling.words\n",
        "#norm_train_words"
      ],
      "execution_count": 78,
      "outputs": [
        {
          "output_type": "execute_result",
          "data": {
            "application/vnd.google.colaboratory.intrinsic+json": {
              "type": "string"
            },
            "text/plain": [
              "'RT fadli zon mendagri menonaktifkan ahok gubernur dki'"
            ]
          },
          "metadata": {
            "tags": []
          },
          "execution_count": 78
        }
      ]
    },
    {
      "cell_type": "markdown",
      "metadata": {
        "id": "T8fe-rIgB0D9"
      },
      "source": [
        "\n",
        "\n",
        "Normalized test reviews\n"
      ]
    },
    {
      "cell_type": "code",
      "metadata": {
        "colab": {
          "base_uri": "https://localhost:8080/",
          "height": 0
        },
        "id": "wCOuzT0BB0i4",
        "outputId": "0cbd1bcc-15a2-4395-823d-a060851ac8ad"
      },
      "source": [
        "#Normalized test Tweets\n",
        "norm_test_Tweets=df.Tweet[499:]\n",
        "norm_test_Tweets[500]\n",
        "##convert dataframe to string\n",
        "#norm_test_string=norm_test_tweets.to_string()\n",
        "#spelling correction using Textblob\n",
        "#norm_test_spelling=TextBlob(norm_test_string)\n",
        "#print(norm_test_spelling.correct())\n",
        "#Tokenization using Textblob\n",
        "#norm_test_words=norm_test_spelling.words\n",
        "#norm_test_words"
      ],
      "execution_count": 79,
      "outputs": [
        {
          "output_type": "execute_result",
          "data": {
            "application/vnd.google.colaboratory.intrinsic+json": {
              "type": "string"
            },
            "text/plain": [
              "'RT overdosi _tv membela penista agama'"
            ]
          },
          "metadata": {
            "tags": []
          },
          "execution_count": 79
        }
      ]
    },
    {
      "cell_type": "markdown",
      "metadata": {
        "id": "U2PuHj0O7OAO"
      },
      "source": [
        "# **Data Engineering**"
      ]
    },
    {
      "cell_type": "markdown",
      "metadata": {
        "id": "Wy9Y7XkMQPIQ"
      },
      "source": [
        "**Bags of Words Model**\n",
        "\n",
        "Digunakan sebagai cara untuk mengubah dokumen teks menjadi angka vektor atau bag of words\n",
        "\n",
        "\n",
        "    \n",
        "\n"
      ]
    },
    {
      "cell_type": "code",
      "metadata": {
        "colab": {
          "base_uri": "https://localhost:8080/"
        },
        "id": "hVhBBwRXCi1B",
        "outputId": "b316c086-0092-4a42-9260-0ca94e65bffe"
      },
      "source": [
        "#Count vectorizer for bag of words\n",
        "cv=CountVectorizer(min_df=0,max_df=1,binary=False,ngram_range=(1,3))\n",
        "#transformed train Tweets\n",
        "cv_train_Tweets=cv.fit_transform(norm_train_Tweets)\n",
        "#transformed test Tweets\n",
        "cv_test_Tweets=cv.transform(norm_test_Tweets)\n",
        "\n",
        "print('BOW_cv_train:',cv_train_Tweets.shape)\n",
        "print('BOW_cv_test:',cv_test_Tweets.shape)\n",
        "#vocab=cv.get_feature_names()-toget feature names"
      ],
      "execution_count": 80,
      "outputs": [
        {
          "output_type": "stream",
          "text": [
            "BOW_cv_train: (499, 7226)\n",
            "BOW_cv_test: (214, 7226)\n"
          ],
          "name": "stdout"
        }
      ]
    },
    {
      "cell_type": "code",
      "metadata": {
        "colab": {
          "base_uri": "https://localhost:8080/"
        },
        "id": "UiaQ5C0IMCFD",
        "outputId": "c414d825-04a4-4b2b-bc22-8d72a49b753a"
      },
      "source": [
        "#Tfidf vectorizer\n",
        "tv=TfidfVectorizer(min_df=0,max_df=1,use_idf=True,ngram_range=(1,3))\n",
        "#transformed train reviews\n",
        "tv_train_Tweets=tv.fit_transform(norm_train_Tweets)\n",
        "#transformed test reviews\n",
        "tv_test_Tweets=tv.transform(norm_test_Tweets)\n",
        "print('Tfidf_train:',tv_train_Tweets.shape)\n",
        "print('Tfidf_test:',tv_test_Tweets.shape)"
      ],
      "execution_count": 81,
      "outputs": [
        {
          "output_type": "stream",
          "text": [
            "Tfidf_train: (499, 7226)\n",
            "Tfidf_test: (214, 7226)\n"
          ],
          "name": "stdout"
        }
      ]
    },
    {
      "cell_type": "markdown",
      "metadata": {
        "id": "mcpgOWYZDR0M"
      },
      "source": [
        "**Labeling the label text**"
      ]
    },
    {
      "cell_type": "code",
      "metadata": {
        "colab": {
          "base_uri": "https://localhost:8080/"
        },
        "id": "WhNNGlY4DXIJ",
        "outputId": "ec830e38-608a-42f1-c075-426f6fa39e11"
      },
      "source": [
        "#labeling the label data\n",
        "lb=LabelBinarizer()\n",
        "#transformed label data\n",
        "Label_data=lb.fit_transform(df['Label'])\n",
        "print(Label_data.shape)"
      ],
      "execution_count": 82,
      "outputs": [
        {
          "output_type": "stream",
          "text": [
            "(713, 1)\n"
          ],
          "name": "stdout"
        }
      ]
    },
    {
      "cell_type": "markdown",
      "metadata": {
        "id": "iae4m1IQDf7g"
      },
      "source": [
        "**Split the label data**"
      ]
    },
    {
      "cell_type": "code",
      "metadata": {
        "colab": {
          "base_uri": "https://localhost:8080/"
        },
        "id": "LzouA-HyD2Fr",
        "outputId": "03155873-0543-45cd-ec74-2c2c307f0abd"
      },
      "source": [
        "#Spliting the label data\n",
        "train_Labels=Label_data[:499]\n",
        "test_Labels=Label_data[499:]\n",
        "print(train_Labels)\n",
        "print(test_Labels)"
      ],
      "execution_count": 83,
      "outputs": [
        {
          "output_type": "stream",
          "text": [
            "[[1]\n",
            " [1]\n",
            " [1]\n",
            " [1]\n",
            " [1]\n",
            " [1]\n",
            " [1]\n",
            " [1]\n",
            " [1]\n",
            " [1]\n",
            " [1]\n",
            " [1]\n",
            " [1]\n",
            " [1]\n",
            " [1]\n",
            " [1]\n",
            " [1]\n",
            " [1]\n",
            " [1]\n",
            " [1]\n",
            " [1]\n",
            " [1]\n",
            " [1]\n",
            " [1]\n",
            " [1]\n",
            " [1]\n",
            " [1]\n",
            " [1]\n",
            " [1]\n",
            " [1]\n",
            " [1]\n",
            " [1]\n",
            " [1]\n",
            " [1]\n",
            " [1]\n",
            " [1]\n",
            " [1]\n",
            " [1]\n",
            " [1]\n",
            " [1]\n",
            " [1]\n",
            " [1]\n",
            " [1]\n",
            " [1]\n",
            " [1]\n",
            " [1]\n",
            " [1]\n",
            " [1]\n",
            " [1]\n",
            " [1]\n",
            " [1]\n",
            " [1]\n",
            " [1]\n",
            " [1]\n",
            " [1]\n",
            " [1]\n",
            " [1]\n",
            " [1]\n",
            " [1]\n",
            " [1]\n",
            " [1]\n",
            " [1]\n",
            " [1]\n",
            " [1]\n",
            " [1]\n",
            " [1]\n",
            " [1]\n",
            " [1]\n",
            " [1]\n",
            " [1]\n",
            " [1]\n",
            " [1]\n",
            " [1]\n",
            " [1]\n",
            " [1]\n",
            " [1]\n",
            " [1]\n",
            " [1]\n",
            " [1]\n",
            " [1]\n",
            " [1]\n",
            " [1]\n",
            " [1]\n",
            " [1]\n",
            " [1]\n",
            " [1]\n",
            " [1]\n",
            " [1]\n",
            " [1]\n",
            " [1]\n",
            " [1]\n",
            " [1]\n",
            " [1]\n",
            " [1]\n",
            " [1]\n",
            " [1]\n",
            " [1]\n",
            " [1]\n",
            " [1]\n",
            " [1]\n",
            " [1]\n",
            " [1]\n",
            " [1]\n",
            " [1]\n",
            " [1]\n",
            " [1]\n",
            " [1]\n",
            " [1]\n",
            " [1]\n",
            " [1]\n",
            " [1]\n",
            " [1]\n",
            " [1]\n",
            " [1]\n",
            " [1]\n",
            " [1]\n",
            " [1]\n",
            " [1]\n",
            " [1]\n",
            " [1]\n",
            " [1]\n",
            " [1]\n",
            " [1]\n",
            " [1]\n",
            " [1]\n",
            " [1]\n",
            " [1]\n",
            " [1]\n",
            " [1]\n",
            " [1]\n",
            " [1]\n",
            " [1]\n",
            " [1]\n",
            " [1]\n",
            " [1]\n",
            " [1]\n",
            " [1]\n",
            " [1]\n",
            " [1]\n",
            " [1]\n",
            " [1]\n",
            " [1]\n",
            " [1]\n",
            " [1]\n",
            " [1]\n",
            " [1]\n",
            " [1]\n",
            " [1]\n",
            " [1]\n",
            " [1]\n",
            " [1]\n",
            " [1]\n",
            " [1]\n",
            " [1]\n",
            " [1]\n",
            " [1]\n",
            " [1]\n",
            " [1]\n",
            " [1]\n",
            " [1]\n",
            " [1]\n",
            " [1]\n",
            " [1]\n",
            " [1]\n",
            " [1]\n",
            " [1]\n",
            " [1]\n",
            " [1]\n",
            " [1]\n",
            " [1]\n",
            " [1]\n",
            " [1]\n",
            " [1]\n",
            " [1]\n",
            " [1]\n",
            " [1]\n",
            " [1]\n",
            " [1]\n",
            " [1]\n",
            " [1]\n",
            " [1]\n",
            " [1]\n",
            " [1]\n",
            " [1]\n",
            " [1]\n",
            " [1]\n",
            " [1]\n",
            " [1]\n",
            " [1]\n",
            " [1]\n",
            " [1]\n",
            " [1]\n",
            " [1]\n",
            " [1]\n",
            " [1]\n",
            " [1]\n",
            " [1]\n",
            " [1]\n",
            " [1]\n",
            " [1]\n",
            " [1]\n",
            " [1]\n",
            " [1]\n",
            " [1]\n",
            " [1]\n",
            " [1]\n",
            " [1]\n",
            " [1]\n",
            " [1]\n",
            " [1]\n",
            " [1]\n",
            " [1]\n",
            " [1]\n",
            " [1]\n",
            " [1]\n",
            " [1]\n",
            " [1]\n",
            " [1]\n",
            " [1]\n",
            " [1]\n",
            " [1]\n",
            " [1]\n",
            " [1]\n",
            " [1]\n",
            " [1]\n",
            " [1]\n",
            " [1]\n",
            " [1]\n",
            " [1]\n",
            " [1]\n",
            " [1]\n",
            " [1]\n",
            " [1]\n",
            " [1]\n",
            " [1]\n",
            " [1]\n",
            " [1]\n",
            " [1]\n",
            " [1]\n",
            " [1]\n",
            " [1]\n",
            " [1]\n",
            " [1]\n",
            " [1]\n",
            " [1]\n",
            " [1]\n",
            " [1]\n",
            " [1]\n",
            " [1]\n",
            " [1]\n",
            " [1]\n",
            " [1]\n",
            " [1]\n",
            " [1]\n",
            " [1]\n",
            " [1]\n",
            " [1]\n",
            " [1]\n",
            " [1]\n",
            " [1]\n",
            " [1]\n",
            " [1]\n",
            " [1]\n",
            " [1]\n",
            " [1]\n",
            " [1]\n",
            " [1]\n",
            " [1]\n",
            " [1]\n",
            " [1]\n",
            " [1]\n",
            " [1]\n",
            " [1]\n",
            " [1]\n",
            " [1]\n",
            " [1]\n",
            " [1]\n",
            " [1]\n",
            " [1]\n",
            " [1]\n",
            " [1]\n",
            " [1]\n",
            " [1]\n",
            " [1]\n",
            " [1]\n",
            " [1]\n",
            " [1]\n",
            " [1]\n",
            " [1]\n",
            " [1]\n",
            " [1]\n",
            " [1]\n",
            " [1]\n",
            " [1]\n",
            " [1]\n",
            " [1]\n",
            " [1]\n",
            " [1]\n",
            " [1]\n",
            " [1]\n",
            " [1]\n",
            " [1]\n",
            " [1]\n",
            " [1]\n",
            " [1]\n",
            " [1]\n",
            " [1]\n",
            " [1]\n",
            " [1]\n",
            " [1]\n",
            " [1]\n",
            " [1]\n",
            " [1]\n",
            " [1]\n",
            " [1]\n",
            " [1]\n",
            " [1]\n",
            " [1]\n",
            " [1]\n",
            " [1]\n",
            " [1]\n",
            " [1]\n",
            " [1]\n",
            " [1]\n",
            " [1]\n",
            " [1]\n",
            " [1]\n",
            " [1]\n",
            " [1]\n",
            " [1]\n",
            " [1]\n",
            " [1]\n",
            " [1]\n",
            " [1]\n",
            " [1]\n",
            " [1]\n",
            " [1]\n",
            " [1]\n",
            " [1]\n",
            " [1]\n",
            " [1]\n",
            " [1]\n",
            " [1]\n",
            " [1]\n",
            " [1]\n",
            " [1]\n",
            " [1]\n",
            " [1]\n",
            " [1]\n",
            " [1]\n",
            " [1]\n",
            " [1]\n",
            " [1]\n",
            " [1]\n",
            " [1]\n",
            " [1]\n",
            " [1]\n",
            " [1]\n",
            " [1]\n",
            " [1]\n",
            " [1]\n",
            " [1]\n",
            " [1]\n",
            " [1]\n",
            " [1]\n",
            " [1]\n",
            " [1]\n",
            " [1]\n",
            " [1]\n",
            " [1]\n",
            " [1]\n",
            " [1]\n",
            " [1]\n",
            " [1]\n",
            " [1]\n",
            " [1]\n",
            " [1]\n",
            " [1]\n",
            " [1]\n",
            " [1]\n",
            " [1]\n",
            " [1]\n",
            " [1]\n",
            " [1]\n",
            " [1]\n",
            " [1]\n",
            " [1]\n",
            " [1]\n",
            " [1]\n",
            " [1]\n",
            " [1]\n",
            " [1]\n",
            " [1]\n",
            " [1]\n",
            " [1]\n",
            " [1]\n",
            " [1]\n",
            " [1]\n",
            " [1]\n",
            " [1]\n",
            " [1]\n",
            " [1]\n",
            " [1]\n",
            " [1]\n",
            " [1]\n",
            " [1]\n",
            " [1]\n",
            " [1]\n",
            " [1]\n",
            " [1]\n",
            " [1]\n",
            " [1]\n",
            " [1]\n",
            " [1]\n",
            " [1]\n",
            " [1]\n",
            " [1]\n",
            " [1]\n",
            " [1]\n",
            " [1]\n",
            " [1]\n",
            " [1]\n",
            " [1]\n",
            " [1]\n",
            " [1]\n",
            " [1]\n",
            " [1]\n",
            " [1]\n",
            " [1]\n",
            " [1]\n",
            " [1]\n",
            " [1]\n",
            " [1]\n",
            " [1]\n",
            " [1]\n",
            " [1]\n",
            " [1]\n",
            " [1]\n",
            " [1]\n",
            " [1]\n",
            " [1]\n",
            " [1]\n",
            " [1]\n",
            " [1]\n",
            " [1]\n",
            " [1]\n",
            " [1]\n",
            " [1]\n",
            " [1]\n",
            " [1]\n",
            " [1]\n",
            " [1]\n",
            " [1]\n",
            " [0]\n",
            " [0]\n",
            " [0]\n",
            " [0]\n",
            " [0]\n",
            " [0]\n",
            " [0]\n",
            " [0]\n",
            " [0]\n",
            " [0]\n",
            " [0]\n",
            " [0]\n",
            " [0]\n",
            " [0]\n",
            " [0]\n",
            " [0]\n",
            " [0]\n",
            " [0]\n",
            " [0]\n",
            " [0]\n",
            " [0]\n",
            " [0]\n",
            " [0]\n",
            " [0]\n",
            " [0]\n",
            " [0]\n",
            " [0]\n",
            " [0]\n",
            " [0]\n",
            " [0]\n",
            " [0]\n",
            " [0]\n",
            " [0]\n",
            " [0]\n",
            " [0]\n",
            " [0]\n",
            " [0]\n",
            " [0]\n",
            " [0]\n",
            " [0]\n",
            " [0]\n",
            " [0]\n",
            " [0]\n",
            " [0]\n",
            " [0]\n",
            " [0]]\n",
            "[[0]\n",
            " [0]\n",
            " [0]\n",
            " [0]\n",
            " [0]\n",
            " [0]\n",
            " [0]\n",
            " [0]\n",
            " [0]\n",
            " [0]\n",
            " [0]\n",
            " [0]\n",
            " [0]\n",
            " [0]\n",
            " [0]\n",
            " [0]\n",
            " [0]\n",
            " [0]\n",
            " [0]\n",
            " [0]\n",
            " [0]\n",
            " [0]\n",
            " [0]\n",
            " [0]\n",
            " [0]\n",
            " [0]\n",
            " [0]\n",
            " [0]\n",
            " [0]\n",
            " [0]\n",
            " [0]\n",
            " [0]\n",
            " [0]\n",
            " [0]\n",
            " [0]\n",
            " [0]\n",
            " [0]\n",
            " [0]\n",
            " [0]\n",
            " [0]\n",
            " [0]\n",
            " [0]\n",
            " [0]\n",
            " [0]\n",
            " [0]\n",
            " [0]\n",
            " [0]\n",
            " [0]\n",
            " [0]\n",
            " [0]\n",
            " [0]\n",
            " [0]\n",
            " [0]\n",
            " [0]\n",
            " [0]\n",
            " [0]\n",
            " [0]\n",
            " [0]\n",
            " [0]\n",
            " [0]\n",
            " [0]\n",
            " [0]\n",
            " [0]\n",
            " [0]\n",
            " [0]\n",
            " [0]\n",
            " [0]\n",
            " [0]\n",
            " [0]\n",
            " [0]\n",
            " [0]\n",
            " [0]\n",
            " [0]\n",
            " [0]\n",
            " [0]\n",
            " [0]\n",
            " [0]\n",
            " [0]\n",
            " [0]\n",
            " [0]\n",
            " [0]\n",
            " [0]\n",
            " [0]\n",
            " [0]\n",
            " [0]\n",
            " [0]\n",
            " [0]\n",
            " [0]\n",
            " [0]\n",
            " [0]\n",
            " [0]\n",
            " [0]\n",
            " [0]\n",
            " [0]\n",
            " [0]\n",
            " [0]\n",
            " [0]\n",
            " [0]\n",
            " [0]\n",
            " [0]\n",
            " [0]\n",
            " [0]\n",
            " [0]\n",
            " [0]\n",
            " [0]\n",
            " [0]\n",
            " [0]\n",
            " [0]\n",
            " [0]\n",
            " [0]\n",
            " [0]\n",
            " [0]\n",
            " [0]\n",
            " [0]\n",
            " [0]\n",
            " [0]\n",
            " [0]\n",
            " [0]\n",
            " [0]\n",
            " [0]\n",
            " [0]\n",
            " [0]\n",
            " [0]\n",
            " [0]\n",
            " [0]\n",
            " [0]\n",
            " [0]\n",
            " [0]\n",
            " [0]\n",
            " [0]\n",
            " [0]\n",
            " [0]\n",
            " [0]\n",
            " [0]\n",
            " [0]\n",
            " [0]\n",
            " [0]\n",
            " [0]\n",
            " [0]\n",
            " [0]\n",
            " [0]\n",
            " [0]\n",
            " [0]\n",
            " [0]\n",
            " [0]\n",
            " [0]\n",
            " [0]\n",
            " [0]\n",
            " [0]\n",
            " [0]\n",
            " [0]\n",
            " [0]\n",
            " [0]\n",
            " [0]\n",
            " [0]\n",
            " [0]\n",
            " [0]\n",
            " [0]\n",
            " [0]\n",
            " [0]\n",
            " [0]\n",
            " [0]\n",
            " [0]\n",
            " [0]\n",
            " [0]\n",
            " [0]\n",
            " [0]\n",
            " [0]\n",
            " [0]\n",
            " [0]\n",
            " [0]\n",
            " [0]\n",
            " [0]\n",
            " [0]\n",
            " [0]\n",
            " [0]\n",
            " [0]\n",
            " [0]\n",
            " [0]\n",
            " [0]\n",
            " [0]\n",
            " [0]\n",
            " [0]\n",
            " [0]\n",
            " [0]\n",
            " [0]\n",
            " [0]\n",
            " [0]\n",
            " [0]\n",
            " [0]\n",
            " [0]\n",
            " [0]\n",
            " [0]\n",
            " [0]\n",
            " [0]\n",
            " [0]\n",
            " [0]\n",
            " [0]\n",
            " [0]\n",
            " [0]\n",
            " [0]\n",
            " [0]\n",
            " [0]\n",
            " [0]\n",
            " [0]\n",
            " [0]\n",
            " [0]\n",
            " [0]\n",
            " [0]\n",
            " [0]\n",
            " [0]\n",
            " [0]\n",
            " [0]\n",
            " [0]]\n"
          ],
          "name": "stdout"
        }
      ]
    },
    {
      "cell_type": "markdown",
      "metadata": {
        "id": "fCYzQXKOEIIa"
      },
      "source": [
        "# **Modelling**\n",
        "\n"
      ]
    },
    {
      "cell_type": "markdown",
      "metadata": {
        "id": "114EH9dGqeW5"
      },
      "source": [
        "**1. Logistic Regression**"
      ]
    },
    {
      "cell_type": "code",
      "metadata": {
        "colab": {
          "base_uri": "https://localhost:8080/"
        },
        "id": "aNEhR8mREHs1",
        "outputId": "d73d2de2-323b-4290-e13b-2177d54888d5"
      },
      "source": [
        "#training the model\n",
        "lr=LogisticRegression(penalty='l2',max_iter=50,C=1,random_state=20)\n",
        "\n",
        "#Fitting the model for Bag of words\n",
        "lr_bow=lr.fit(cv_train_Tweets,train_Labels)\n",
        "print(lr_bow)\n",
        "\n",
        "#Fitting the model for tfidf features\n",
        "lr_tfidf=lr.fit(tv_train_Tweets,train_Labels)\n",
        "print(lr_tfidf)"
      ],
      "execution_count": 84,
      "outputs": [
        {
          "output_type": "stream",
          "text": [
            "LogisticRegression(C=1, class_weight=None, dual=False, fit_intercept=True,\n",
            "                   intercept_scaling=1, l1_ratio=None, max_iter=50,\n",
            "                   multi_class='auto', n_jobs=None, penalty='l2',\n",
            "                   random_state=20, solver='lbfgs', tol=0.0001, verbose=0,\n",
            "                   warm_start=False)\n",
            "LogisticRegression(C=1, class_weight=None, dual=False, fit_intercept=True,\n",
            "                   intercept_scaling=1, l1_ratio=None, max_iter=50,\n",
            "                   multi_class='auto', n_jobs=None, penalty='l2',\n",
            "                   random_state=20, solver='lbfgs', tol=0.0001, verbose=0,\n",
            "                   warm_start=False)\n"
          ],
          "name": "stdout"
        }
      ]
    },
    {
      "cell_type": "markdown",
      "metadata": {
        "id": "xqkDNL22EgXJ"
      },
      "source": [
        "**Logistic regression model performane on test dataset**"
      ]
    },
    {
      "cell_type": "code",
      "metadata": {
        "colab": {
          "base_uri": "https://localhost:8080/"
        },
        "id": "BQQQEInzEgAb",
        "outputId": "5eca83de-f98c-418b-92ae-3bf5f758a893"
      },
      "source": [
        "#Predicting the model for bag of words\n",
        "lr_bow_predict=lr.predict(cv_test_Tweets)\n",
        "print(lr_bow_predict)\n",
        "##Predicting the model for tfidf features\n",
        "lr_tfidf_predict=lr.predict(tv_test_Tweets)\n",
        "print(lr_tfidf_predict)"
      ],
      "execution_count": 85,
      "outputs": [
        {
          "output_type": "stream",
          "text": [
            "[1 1 1 1 1 1 1 1 1 1 1 1 1 1 1 1 1 1 1 1 1 1 1 1 1 1 1 1 1 1 1 1 1 1 1 1 1\n",
            " 1 1 1 1 1 1 1 1 1 1 1 1 1 1 1 1 1 1 1 1 1 1 1 1 1 1 1 1 1 1 1 1 1 1 1 1 1\n",
            " 1 1 1 1 1 1 1 1 1 1 1 1 1 1 1 1 1 1 1 1 1 1 1 1 1 1 1 1 1 1 1 1 1 1 1 1 1\n",
            " 1 1 1 1 1 1 1 1 1 1 1 1 1 1 1 1 1 1 1 1 1 1 1 1 1 1 1 1 1 1 1 1 1 1 1 1 1\n",
            " 1 1 1 1 1 1 1 1 1 1 1 1 1 1 1 1 1 1 1 1 1 1 1 1 1 1 1 1 1 1 1 1 1 1 1 1 1\n",
            " 1 1 1 1 1 1 1 1 1 1 1 1 1 1 1 1 1 1 1 1 1 1 1 1 1 1 1 1 1]\n",
            "[1 1 1 1 1 1 1 1 1 1 1 1 1 1 1 1 1 1 1 1 1 1 1 1 1 1 1 1 1 1 1 1 1 1 1 1 1\n",
            " 1 1 1 1 1 1 1 1 1 1 1 1 1 1 1 1 1 1 1 1 1 1 1 1 1 1 1 1 1 1 1 1 1 1 1 1 1\n",
            " 1 1 1 1 1 1 1 1 1 1 1 1 1 1 1 1 1 1 1 1 1 1 1 1 1 1 1 1 1 1 1 1 1 1 1 1 1\n",
            " 1 1 1 1 1 1 1 1 1 1 1 1 1 1 1 1 1 1 1 1 1 1 1 1 1 1 1 1 1 1 1 1 1 1 1 1 1\n",
            " 1 1 1 1 1 1 1 1 1 1 1 1 1 1 1 1 1 1 1 1 1 1 1 1 1 1 1 1 1 1 1 1 1 1 1 1 1\n",
            " 1 1 1 1 1 1 1 1 1 1 1 1 1 1 1 1 1 1 1 1 1 1 1 1 1 1 1 1 1]\n"
          ],
          "name": "stdout"
        }
      ]
    },
    {
      "cell_type": "markdown",
      "metadata": {
        "id": "GsPk07ShEpVG"
      },
      "source": [
        "**Accuracy of the model**"
      ]
    },
    {
      "cell_type": "code",
      "metadata": {
        "colab": {
          "base_uri": "https://localhost:8080/"
        },
        "id": "4JqDmup4Eo-l",
        "outputId": "f38c5341-910f-4a68-d219-e005959c1c0e"
      },
      "source": [
        "#Accuracy score for bag of words\n",
        "lr_bow_score=accuracy_score(test_Labels,lr_bow_predict)\n",
        "print(\"lr_bow_score :\",lr_bow_score)"
      ],
      "execution_count": 86,
      "outputs": [
        {
          "output_type": "stream",
          "text": [
            "lr_bow_score : 0.0\n"
          ],
          "name": "stdout"
        }
      ]
    },
    {
      "cell_type": "markdown",
      "metadata": {
        "id": "DR4rG0jQM6ZI"
      },
      "source": [
        "**Print the classification report**"
      ]
    },
    {
      "cell_type": "code",
      "metadata": {
        "colab": {
          "base_uri": "https://localhost:8080/"
        },
        "id": "PHKPeEweKYag",
        "outputId": "434935ca-925f-4727-e491-3f43a3aa8d2f"
      },
      "source": [
        "##Classification report for bag of words \n",
        "lr_bow_report=classification_report(test_Labels,lr_bow_predict,target_names=['HS','Non_HS'])\n",
        "print(lr_bow_report)"
      ],
      "execution_count": 87,
      "outputs": [
        {
          "output_type": "stream",
          "text": [
            "              precision    recall  f1-score   support\n",
            "\n",
            "          HS       0.00      0.00      0.00     214.0\n",
            "      Non_HS       0.00      0.00      0.00       0.0\n",
            "\n",
            "    accuracy                           0.00     214.0\n",
            "   macro avg       0.00      0.00      0.00     214.0\n",
            "weighted avg       0.00      0.00      0.00     214.0\n",
            "\n"
          ],
          "name": "stdout"
        }
      ]
    },
    {
      "cell_type": "markdown",
      "metadata": {
        "id": "1oKLvzufM_H_"
      },
      "source": [
        "**Confusion Matrix**"
      ]
    },
    {
      "cell_type": "code",
      "metadata": {
        "colab": {
          "base_uri": "https://localhost:8080/"
        },
        "id": "jCO-EpOZM5xF",
        "outputId": "38c7f8cf-49ab-46ab-b9c4-b70b1b00158f"
      },
      "source": [
        "#confusion matrix for bag of words\n",
        "cm_bow=confusion_matrix(test_Labels,lr_bow_predict,labels=[1,0])\n",
        "print(cm_bow)"
      ],
      "execution_count": 88,
      "outputs": [
        {
          "output_type": "stream",
          "text": [
            "[[  0   0]\n",
            " [214   0]]\n"
          ],
          "name": "stdout"
        }
      ]
    },
    {
      "cell_type": "markdown",
      "metadata": {
        "id": "Fc8L6Td9BgFV"
      },
      "source": [
        "**2. SVM**"
      ]
    },
    {
      "cell_type": "code",
      "metadata": {
        "colab": {
          "base_uri": "https://localhost:8080/"
        },
        "id": "F3g_ygtQBgKT",
        "outputId": "0deb575c-9917-48e1-91ef-7f56d70fd440"
      },
      "source": [
        "#training the linear svm\n",
        "svm=SGDClassifier(loss='hinge',max_iter=500,random_state=42)\n",
        "#fitting the svm for bag of words\n",
        "svm_bow=svm.fit(cv_train_Tweets,train_Labels)\n",
        "print(svm_bow)"
      ],
      "execution_count": 89,
      "outputs": [
        {
          "output_type": "stream",
          "text": [
            "SGDClassifier(alpha=0.0001, average=False, class_weight=None,\n",
            "              early_stopping=False, epsilon=0.1, eta0=0.0, fit_intercept=True,\n",
            "              l1_ratio=0.15, learning_rate='optimal', loss='hinge',\n",
            "              max_iter=500, n_iter_no_change=5, n_jobs=None, penalty='l2',\n",
            "              power_t=0.5, random_state=42, shuffle=True, tol=0.001,\n",
            "              validation_fraction=0.1, verbose=0, warm_start=False)\n"
          ],
          "name": "stdout"
        }
      ]
    },
    {
      "cell_type": "markdown",
      "metadata": {
        "id": "gqPZ51DPBp0g"
      },
      "source": [
        "**Model performance on test data**"
      ]
    },
    {
      "cell_type": "code",
      "metadata": {
        "colab": {
          "base_uri": "https://localhost:8080/"
        },
        "id": "nfwayTEmBpe_",
        "outputId": "84c9fac5-c21a-4ce8-a2b8-446dbc455ff2"
      },
      "source": [
        "#Predicting the model for bag of words\n",
        "svm_bow_predict=svm.predict(cv_test_Tweets)\n",
        "print(svm_bow_predict)\n",
        "#Predicting the model for tfidf features"
      ],
      "execution_count": 90,
      "outputs": [
        {
          "output_type": "stream",
          "text": [
            "[1 1 1 1 0 0 1 1 1 1 1 0 0 0 1 1 1 1 1 0 1 1 1 1 1 1 1 1 1 1 1 1 0 0 1 1 1\n",
            " 1 1 1 1 1 1 1 1 1 0 0 0 0 1 0 1 1 1 1 1 0 1 1 0 1 0 1 0 0 1 0 1 1 1 0 1 0\n",
            " 0 1 0 1 1 1 1 0 1 1 0 1 1 1 1 1 1 1 1 1 1 1 1 1 0 1 0 1 1 0 1 0 1 0 1 1 0\n",
            " 0 1 1 0 0 0 1 1 0 1 1 0 1 1 1 1 1 1 1 1 0 1 0 0 1 0 1 1 0 1 0 1 0 1 0 0 1\n",
            " 0 0 0 0 1 1 1 0 0 0 0 1 1 1 1 1 0 1 1 1 1 1 1 1 1 1 1 0 1 0 0 1 0 0 1 1 0\n",
            " 0 0 0 0 0 0 1 0 0 1 0 0 0 0 1 0 0 1 1 1 0 0 1 1 0 0 0 1 0]\n"
          ],
          "name": "stdout"
        }
      ]
    },
    {
      "cell_type": "markdown",
      "metadata": {
        "id": "G1zaYI3aBxdv"
      },
      "source": [
        "**Accuracy of the model**"
      ]
    },
    {
      "cell_type": "code",
      "metadata": {
        "colab": {
          "base_uri": "https://localhost:8080/"
        },
        "id": "6en4sZjsBxhw",
        "outputId": "ddedd789-f9c6-4493-b0b3-36a25c1246f8"
      },
      "source": [
        "#Accuracy score for bag of words\n",
        "svm_bow_score=accuracy_score(test_Labels,svm_bow_predict)\n",
        "print(\"svm_bow_score :\",svm_bow_score)\n",
        "#Accuracy score for tfidf features"
      ],
      "execution_count": 91,
      "outputs": [
        {
          "output_type": "stream",
          "text": [
            "svm_bow_score : 0.37850467289719625\n"
          ],
          "name": "stdout"
        }
      ]
    },
    {
      "cell_type": "markdown",
      "metadata": {
        "id": "XoKyAqZ2B7UH"
      },
      "source": [
        "**Print the classification report**"
      ]
    },
    {
      "cell_type": "code",
      "metadata": {
        "colab": {
          "base_uri": "https://localhost:8080/"
        },
        "id": "2n_Lpg7MB7Z6",
        "outputId": "59f032e6-b293-4115-e48a-c08d52b5112a"
      },
      "source": [
        "#Classification report for bag of words \n",
        "svm_bow_report=classification_report(test_Labels,svm_bow_predict,target_names=['HS','Non_HS'])\n",
        "print(svm_bow_report)"
      ],
      "execution_count": 92,
      "outputs": [
        {
          "output_type": "stream",
          "text": [
            "              precision    recall  f1-score   support\n",
            "\n",
            "          HS       1.00      0.38      0.55       214\n",
            "      Non_HS       0.00      0.00      0.00         0\n",
            "\n",
            "    accuracy                           0.38       214\n",
            "   macro avg       0.50      0.19      0.27       214\n",
            "weighted avg       1.00      0.38      0.55       214\n",
            "\n"
          ],
          "name": "stdout"
        }
      ]
    },
    {
      "cell_type": "markdown",
      "metadata": {
        "id": "dsbWhHKECId-"
      },
      "source": [
        "**Confusion matrix**\n"
      ]
    },
    {
      "cell_type": "code",
      "metadata": {
        "colab": {
          "base_uri": "https://localhost:8080/"
        },
        "id": "-TK9jXK2CIkz",
        "outputId": "d9d90725-b2f2-430f-fdae-5707d0a14fa6"
      },
      "source": [
        "#confusion matrix for bag of words\n",
        "cm_bow=confusion_matrix(test_Labels,svm_bow_predict,labels=[1,0])\n",
        "print(cm_bow)"
      ],
      "execution_count": 93,
      "outputs": [
        {
          "output_type": "stream",
          "text": [
            "[[  0   0]\n",
            " [133  81]]\n"
          ],
          "name": "stdout"
        }
      ]
    },
    {
      "cell_type": "markdown",
      "metadata": {
        "id": "AvaMdStiCdQr"
      },
      "source": [
        "# **Word Cloud**"
      ]
    },
    {
      "cell_type": "markdown",
      "metadata": {
        "id": "Ky4qX9wkCxM0"
      },
      "source": [
        "Berikut word cloud untuk Hate Speech"
      ]
    },
    {
      "cell_type": "code",
      "metadata": {
        "colab": {
          "base_uri": "https://localhost:8080/",
          "height": 349
        },
        "id": "joWrXhf0CdYx",
        "outputId": "3f201f15-4d42-4cff-c607-01f5688dbd30"
      },
      "source": [
        "#word cloud for HS tweet words\n",
        "plt.figure(figsize=(10,10))\n",
        "HS_text=norm_train_Tweets[1]\n",
        "WC=WordCloud(width=1000,height=500,max_words=500,min_font_size=5)\n",
        "HS_words=WC.generate(HS_text)\n",
        "plt.imshow(HS_words,interpolation='bilinear')\n",
        "plt.show"
      ],
      "execution_count": null,
      "outputs": [
        {
          "output_type": "execute_result",
          "data": {
            "text/plain": [
              "<function matplotlib.pyplot.show>"
            ]
          },
          "metadata": {
            "tags": []
          },
          "execution_count": 59
        },
        {
          "output_type": "display_data",
          "data": {
            "image/png": "[encoded data removed]",
            "text/plain": [
              "<Figure size 720x720 with 1 Axes>"
            ]
          },
          "metadata": {
            "tags": [],
            "needs_background": "light"
          }
        }
      ]
    },
    {
      "cell_type": "markdown",
      "metadata": {
        "id": "BtiywiVwC2HO"
      },
      "source": [
        "Berikut word cloud untuk non_HS"
      ]
    },
    {
      "cell_type": "code",
      "metadata": {
        "colab": {
          "base_uri": "https://localhost:8080/",
          "height": 349
        },
        "id": "6Et_RQdnCwGT",
        "outputId": "ad953ad6-471d-427b-b5d6-7a5fb90dbecd"
      },
      "source": [
        "#Word cloud for non_HS tweet words\n",
        "plt.figure(figsize=(10,10))\n",
        "non_HS_text=norm_train_Tweets[8]\n",
        "WC=WordCloud(width=1000,height=500,max_words=500,min_font_size=5)\n",
        "non_HS_words=WC.generate(non_HS_text)\n",
        "plt.imshow(non_HS_words,interpolation='bilinear')\n",
        "plt.show"
      ],
      "execution_count": null,
      "outputs": [
        {
          "output_type": "execute_result",
          "data": {
            "text/plain": [
              "<function matplotlib.pyplot.show>"
            ]
          },
          "metadata": {
            "tags": []
          },
          "execution_count": 60
        },
        {
          "output_type": "display_data",
          "data": {
            "image/png": "[encoded data removed]",
            "text/plain": [
              "<Figure size 720x720 with 1 Axes>"
            ]
          },
          "metadata": {
            "tags": [],
            "needs_background": "light"
          }
        }
      ]
    },
    {
      "cell_type": "markdown",
      "metadata": {
        "id": "WPwD4lF7DDcS"
      },
      "source": [
        "# **Kesimpulan**\n",
        "\n",
        "1.   Model: Dapat disimpulkan bahwa SVM lebih cocok modelnya ketimbang regresi, dikarenkan nilai acc score, precision, recall, dll lebih baik ketimbang regresi. Walaupun dalam segi memprediksinya keduanya sangatlah masih sangat jauh dari kata optimal\n",
        "2.   Word Cloud Graphic: Terlihat bahwa untuk kata-kata HS dan Non_HS yang sering terlihat adalah \"ahok\", dapat dipungkiri bahwasannya netizen ada yang membenci ahok dan ada yang mendukung ahok\n",
        "\n"
      ]
    }
  ]
}
