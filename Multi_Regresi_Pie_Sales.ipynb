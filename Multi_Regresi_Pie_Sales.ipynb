{
  "nbformat": 4,
  "nbformat_minor": 0,
  "metadata": {
    "kernelspec": {
      "display_name": "Python 3",
      "language": "python",
      "name": "python3"
    },
    "language_info": {
      "codemirror_mode": {
        "name": "ipython",
        "version": 3
      },
      "file_extension": ".py",
      "mimetype": "text/x-python",
      "name": "python",
      "nbconvert_exporter": "python",
      "pygments_lexer": "ipython3",
      "version": "3.7.4"
    },
    "colab": {
      "name": "Multi Regresi Pie_Sales.ipynb",
      "provenance": [],
      "include_colab_link": true
    }
  },
  "cells": [
    {
      "cell_type": "markdown",
      "metadata": {
        "id": "view-in-github",
        "colab_type": "text"
      },
      "source": [
        "<a href=\"https://colab.research.google.com/github/ihsanmauri/Telkom-Digital-Talent-Incubator/blob/master/Multi_Regresi_Pie_Sales.ipynb\" target=\"_parent\"><img src=\"https://colab.research.google.com/assets/colab-badge.svg\" alt=\"Open In Colab\"/></a>"
      ]
    },
    {
      "cell_type": "markdown",
      "metadata": {
        "id": "jXDKZPojc-9b"
      },
      "source": [
        "# **Analisa Penjualan Pie dengan Regresi**"
      ]
    },
    {
      "cell_type": "code",
      "metadata": {
        "id": "rmNI6Ymjc7sy"
      },
      "source": [
        "# Import Packages\n",
        "import pandas as pd\n",
        "import statsmodels.api as sm\n",
        "import seaborn as sns\n",
        "import matplotlib.pyplot as plt\n",
        "import warnings\n",
        "from sklearn import linear_model\n",
        "import sklearn.metrics as sm\n",
        "\n",
        "warnings.filterwarnings('ignore')\n",
        "plt.rcParams['figure.figsize'] = (7, 7)\n",
        "plt.style.use('ggplot')\n",
        "sns.set(style='whitegrid')"
      ],
      "execution_count": null,
      "outputs": []
    },
    {
      "cell_type": "code",
      "metadata": {
        "id": "NExT9rTfc7tE",
        "outputId": "1e3bbc92-c525-44ca-9e8d-6c2c9c87e1c9"
      },
      "source": [
        "# Import Dataset\n",
        "df = pd.read_csv ('https://raw.githubusercontent.com/ihsanmauri/Telkom-Digital-Talent-Incubator/master/Week%204/pie-sales.csv'\n",
        "                  , sep =\";\")\n",
        "print (df)"
      ],
      "execution_count": null,
      "outputs": [
        {
          "output_type": "stream",
          "text": [
            "    week  pie_sales  price  advertising\n",
            "0      1        350    5.5          3.3\n",
            "1      2        460    7.5          3.3\n",
            "2      3        350    8.0          3.0\n",
            "3      4        430    8.0          4.5\n",
            "4      5        350    6.8          3.0\n",
            "5      6        380    7.5          4.0\n",
            "6      7        430    4.5          3.0\n",
            "7      8        470    6.4          3.7\n",
            "8      9        450    7.0          3.5\n",
            "9     10        490    5.0          4.0\n",
            "10    11        340    7.2          3.5\n",
            "11    12        300    7.9          3.2\n",
            "12    13        440    5.9          4.0\n",
            "13    14        450    5.0          3.5\n",
            "14    15        300    7.0          2.7\n"
          ],
          "name": "stdout"
        }
      ]
    },
    {
      "cell_type": "code",
      "metadata": {
        "id": "ugPIaPRVc7tU",
        "outputId": "8fb9ec1e-8027-4ed0-ec45-64ac34f90396"
      },
      "source": [
        "# Define the formula \n",
        "import statsmodels.formula.api as smf\n",
        "model = smf.ols(formula='pie_sales ~ price + advertising', data=df)\n",
        "results_formula = model.fit()\n",
        "results_formula.params"
      ],
      "execution_count": null,
      "outputs": [
        {
          "output_type": "execute_result",
          "data": {
            "text/plain": [
              "Intercept      306.526193\n",
              "price          -24.975090\n",
              "advertising     74.130957\n",
              "dtype: float64"
            ]
          },
          "metadata": {
            "tags": []
          },
          "execution_count": 3
        }
      ]
    },
    {
      "cell_type": "code",
      "metadata": {
        "id": "SFHyfeBgc7tj",
        "outputId": "498f1cdf-da5e-45ee-ce5e-5499ee99f48e"
      },
      "source": [
        "# Plotting the Plot\n",
        "sns.pairplot(\n",
        "    df,\n",
        "    x_vars=[\"price\", \"advertising\"],\n",
        "    y_vars=[\"pie_sales\"],\n",
        ")"
      ],
      "execution_count": null,
      "outputs": [
        {
          "output_type": "execute_result",
          "data": {
            "text/plain": [
              "<seaborn.axisgrid.PairGrid at 0x24b89af6108>"
            ]
          },
          "metadata": {
            "tags": []
          },
          "execution_count": 4
        },
        {
          "output_type": "display_data",
          "data": {
            "image/png": "[encoded data removed]",
            "text/plain": [
              "<Figure size 360x180 with 2 Axes>"
            ]
          },
          "metadata": {
            "tags": [],
            "needs_background": "light"
          }
        }
      ]
    },
    {
      "cell_type": "code",
      "metadata": {
        "id": "gpvB0Pxtc7tv",
        "outputId": "96084ca8-fb60-4673-c4a3-e148fdf05f53"
      },
      "source": [
        "# Visualize the scatterplot\n",
        "g = sns.PairGrid(df, y_vars=[\"pie_sales\"], x_vars=[\"price\", \"advertising\"], height=5)\n",
        "g.map(sns.regplot)"
      ],
      "execution_count": null,
      "outputs": [
        {
          "output_type": "execute_result",
          "data": {
            "text/plain": [
              "<seaborn.axisgrid.PairGrid at 0x24b8a230848>"
            ]
          },
          "metadata": {
            "tags": []
          },
          "execution_count": 5
        },
        {
          "output_type": "display_data",
          "data": {
            "image/png": "[encoded data removed]",
            "text/plain": [
              "<Figure size 720x360 with 2 Axes>"
            ]
          },
          "metadata": {
            "tags": [],
            "needs_background": "light"
          }
        }
      ]
    },
    {
      "cell_type": "markdown",
      "metadata": {
        "id": "a7w829qMdKGn"
      },
      "source": [
        "# Penjelasan Grafik:\n",
        "Terlihat bahwa grafik pie_sales terhadap price mempunyai korelasi yang negatif, dimana ketika pie_sales meningkat \n",
        "jumlahnya price akan semakin turun\n",
        "Sedangkan untuk pie_sales terhadap advertising, korelasinya bernilai positif, karena ketika pie_sales naik maka nilai \n",
        "advertising juga ikut naik"
      ]
    },
    {
      "cell_type": "code",
      "metadata": {
        "id": "PfoVZ-E1c7vI"
      },
      "source": [
        "X = sm.add_constant(X) # adding a constant"
      ],
      "execution_count": null,
      "outputs": []
    },
    {
      "cell_type": "code",
      "metadata": {
        "id": "cZsMKZjKc7vZ",
        "outputId": "1b5d83bc-7906-491d-8b02-d150f6883bf2"
      },
      "source": [
        "# Calculation\n",
        "model = sm.OLS(Y, X).fit()\n",
        "predictions = model.predict(X) \n",
        "\n",
        "print_model = model.summary()\n",
        "print(print_model)"
      ],
      "execution_count": null,
      "outputs": [
        {
          "output_type": "stream",
          "text": [
            "                            OLS Regression Results                            \n",
            "==============================================================================\n",
            "Dep. Variable:              pie_sales   R-squared:                       0.521\n",
            "Model:                            OLS   Adj. R-squared:                  0.442\n",
            "Method:                 Least Squares   F-statistic:                     6.539\n",
            "Date:                Sun, 18 Oct 2020   Prob (F-statistic):             0.0120\n",
            "Time:                        13:19:03   Log-Likelihood:                -77.510\n",
            "No. Observations:                  15   AIC:                             161.0\n",
            "Df Residuals:                      12   BIC:                             163.1\n",
            "Df Model:                           2                                         \n",
            "Covariance Type:            nonrobust                                         \n",
            "===============================================================================\n",
            "                  coef    std err          t      P>|t|      [0.025      0.975]\n",
            "-------------------------------------------------------------------------------\n",
            "const         306.5262    114.254      2.683      0.020      57.588     555.464\n",
            "price         -24.9751     10.832     -2.306      0.040     -48.576      -1.374\n",
            "advertising    74.1310     25.967      2.855      0.014      17.553     130.709\n",
            "==============================================================================\n",
            "Omnibus:                        1.505   Durbin-Watson:                   1.683\n",
            "Prob(Omnibus):                  0.471   Jarque-Bera (JB):                0.937\n",
            "Skew:                           0.595   Prob(JB):                        0.626\n",
            "Kurtosis:                       2.709   Cond. No.                         72.2\n",
            "==============================================================================\n",
            "\n",
            "Warnings:\n",
            "[1] Standard Errors assume that the covariance matrix of the errors is correctly specified.\n"
          ],
          "name": "stdout"
        }
      ]
    },
    {
      "cell_type": "code",
      "metadata": {
        "id": "k26VCFChc7v3"
      },
      "source": [
        "# Penjelasan:\n",
        "\n",
        "-Uji Model/ koefisien determinasi\n",
        "Pada tabel ditunjukkan bahwa untuk Adj. R-squared bernilai 0.442.\n",
        "Jadi, sebanyak 44.2% untuk pie_sales dipengaruhi oleh price dan advertising,\n",
        "sisanya 55.8% dapat dipengaruhi oleh sebab lain\n",
        "\n",
        "-Penentuan Model Regresi:\n",
        "Berdasarkan hasil perhitungan:\n",
        "Intercept      306.526193\n",
        "price          -24.975090\n",
        "advertising     74.130957\n",
        "Dapat dikatakan bahwa model regresi untuk kasus ini adalah:\n",
        "Sales = 306.526 - 24.975 (price) + 74.131 (advertising)\n",
        "\n",
        "-Uji F atau ANOVA\n",
        "F tabel = (k; n-k) > (2; 13) = 3.81\n",
        "k: jumlah variabel x\n",
        "n: jumlah sampel\n",
        "Dikarenakan F hitung (6.539) > F tabel (3.81),\n",
        "artinya model dapat diterima\n",
        "\n",
        "-Uji T\n",
        "df = n-2 = 15-2 = 13\n",
        "Tingkat kepercayaan dibagi 2 karena two tail = 0.025\n",
        "Didapat T-tabel = 2.16037/ -2.16037\n",
        "Sedangkan T-test untuk masing2 variabel adalah:\n",
        "Price = -2.306\n",
        "Advertising = 2.855\n",
        "Jadi, kedua variabel dapat dikatakan memiliki pengaruh terhadap pie_sales\n",
        "\n",
        "-P value\n",
        "Nilai p untuk masing2 variabel adalah sebagai berikut:\n",
        "price = 0.040\n",
        "advertising = 0.014\n",
        "Dikarenakan nilai p < tingkat kepercayaan, maka ada pengaruh price dan advertising terhadap pie_sales\n",
        "\n",
        "-Confidence Interval\n",
        "Dari tabel didapat bahwa untuk batas bawah dan atas dari tiap variabel price dan advertising adalah:\n",
        "-48.576 dan -1.374\n",
        "17.553 dan 130.709\n",
        "Jadi dengan level confidence 95%, rata2 pengaruh kepada pie_sales untuk price diantara -48.6 USD dan -1.4 USD sedangkan\n",
        "untuk advertising adalah 1755.3 USD dan 13070.9 (advertising dalam $100)\n",
        "\n",
        "-Tes Autokorelasi Positif\n",
        "Dengan n = 15 dan k = 2,\n",
        "maka dL = 0.9455 dan dU = 1.5432\n",
        "Karena nilai Durbin-Watson hitung bernilai 1.683, maka dalam kasus tersebut tidak terdapat autokorelasi\n"
      ],
      "execution_count": null,
      "outputs": []
    },
    {
      "cell_type": "markdown",
      "metadata": {
        "id": "0-2FyC6pdObQ"
      },
      "source": [
        "# **# Penjelasan:**\n",
        "\n",
        "### Uji Model/ koefisien determinasi\n",
        "Pada tabel ditunjukkan bahwa untuk Adj. R-squared bernilai 0.442.\n",
        "Jadi, sebanyak 44.2% untuk pie_sales dipengaruhi oleh price dan advertising,\n",
        "sisanya 55.8% dapat dipengaruhi oleh sebab lain\n",
        "\n",
        "### Penentuan Model Regresi:\n",
        "Berdasarkan hasil perhitungan:\n",
        "Intercept      306.526193\n",
        "price          -24.975090\n",
        "advertising     74.130957\n",
        "Dapat dikatakan bahwa model regresi untuk kasus ini adalah:\n",
        "Sales = 306.526 - 24.975 (price) + 74.131 (advertising)\n",
        "\n",
        "### Uji F atau ANOVA\n",
        "F tabel = (k; n-k) > (2; 13) = 3.81\n",
        "k: jumlah variabel x\n",
        "n: jumlah sampel\n",
        "Dikarenakan F hitung (6.539) > F tabel (3.81),\n",
        "artinya model dapat diterima\n",
        "\n",
        "### Uji T\n",
        "df = n-2 = 15-2 = 13\n",
        "Tingkat kepercayaan dibagi 2 karena two tail = 0.025\n",
        "Didapat T-tabel = 2.16037/ -2.16037\n",
        "Sedangkan T-test untuk masing2 variabel adalah:\n",
        "Price = -2.306\n",
        "Advertising = 2.855\n",
        "Jadi, kedua variabel dapat dikatakan memiliki pengaruh terhadap pie_sales\n",
        "\n",
        "### P value\n",
        "Nilai p untuk masing2 variabel adalah sebagai berikut:\n",
        "price = 0.040\n",
        "advertising = 0.014\n",
        "Dikarenakan nilai p < tingkat kepercayaan, maka ada pengaruh price dan advertising terhadap pie_sales\n",
        "\n",
        "### Confidence Interval\n",
        "Dari tabel didapat bahwa untuk batas bawah dan atas dari tiap variabel price dan advertising adalah:\n",
        "-48.576 dan -1.374\n",
        "17.553 dan 130.709\n",
        "Jadi dengan level confidence 95%, rata2 pengaruh kepada pie_sales untuk price diantara -48.6 USD dan -1.4 USD sedangkan\n",
        "untuk advertising adalah 1755.3 USD dan 13070.9 (advertising dalam $100)\n",
        "\n",
        "### Tes Autokorelasi Positif\n",
        "Dengan n = 15 dan k = 2,\n",
        "maka dL = 0.9455 dan dU = 1.5432\n",
        "Karena nilai Durbin-Watson hitung bernilai 1.683, maka dalam kasus tersebut tidak terdapat autokorelasi\n"
      ]
    }
  ]
}