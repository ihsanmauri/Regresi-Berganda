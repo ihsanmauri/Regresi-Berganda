{
 "cells": [
  {
   "cell_type": "code",
   "execution_count": 6,
   "metadata": {},
   "outputs": [
    {
     "name": "stdout",
     "output_type": "stream",
     "text": [
      "    week  pie_sales  price  advertising\n",
      "0      1        350    5.5          3.3\n",
      "1      2        460    7.5          3.3\n",
      "2      3        350    8.0          3.0\n",
      "3      4        430    8.0          4.5\n",
      "4      5        350    6.8          3.0\n",
      "5      6        380    7.5          4.0\n",
      "6      7        430    4.5          3.0\n",
      "7      8        470    6.4          3.7\n",
      "8      9        450    7.0          3.5\n",
      "9     10        490    5.0          4.0\n",
      "10    11        340    7.2          3.5\n",
      "11    12        300    7.9          3.2\n",
      "12    13        440    5.9          4.0\n",
      "13    14        450    5.0          3.5\n",
      "14    15        300    7.0          2.7\n"
     ]
    }
   ],
   "source": [
    "import pandas as pd\n",
    "df = pd.read_csv ('F:\\Document\\Telkom DTI\\pie-sales.csv', sep =\";\")\n",
    "print (df)"
   ]
  },
  {
   "cell_type": "code",
   "execution_count": null,
   "metadata": {},
   "outputs": [],
   "source": []
  }
 ],
 "metadata": {
  "kernelspec": {
   "display_name": "Python 3",
   "language": "python",
   "name": "python3"
  },
  "language_info": {
   "codemirror_mode": {
    "name": "ipython",
    "version": 3
   },
   "file_extension": ".py",
   "mimetype": "text/x-python",
   "name": "python",
   "nbconvert_exporter": "python",
   "pygments_lexer": "ipython3",
   "version": "3.7.4"
  }
 },
 "nbformat": 4,
 "nbformat_minor": 2
}
