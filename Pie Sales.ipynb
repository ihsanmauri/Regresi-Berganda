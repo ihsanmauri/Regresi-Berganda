{
  "nbformat": 4,
  "nbformat_minor": 0,
  "metadata": {
    "colab": {
      "name": "Untitled0.ipynb",
      "provenance": [],
      "authorship_tag": "ABX9TyM8b+qHY733kW9TnpGcqRiE",
      "include_colab_link": true
    },
    "kernelspec": {
      "name": "python3",
      "display_name": "Python 3"
    }
  },
  "cells": [
    {
      "cell_type": "markdown",
      "metadata": {
        "id": "view-in-github",
        "colab_type": "text"
      },
      "source": [
        "<a href=\"https://colab.research.google.com/github/ihsanmauri/Regresi-Berganda/blob/master/Pie%20Sales.ipynb\" target=\"_parent\"><img src=\"https://colab.research.google.com/assets/colab-badge.svg\" alt=\"Open In Colab\"/></a>"
      ]
    },
    {
      "cell_type": "markdown",
      "metadata": {
        "id": "O6IWVW7C_NvS"
      },
      "source": [
        "# **Tugas Regresi Berganda**\n",
        "\n",
        "Berikut merupakan hasil analisa dari data pie-sales:\n",
        "\n"
      ]
    },
    {
      "cell_type": "markdown",
      "metadata": {
        "id": "iGA_U-GR_iNb"
      },
      "source": [
        "**Import Package dan Dataset**"
      ]
    },
    {
      "cell_type": "code",
      "metadata": {
        "id": "2VEXpIrM_plD"
      },
      "source": [
        "import pandas as pd\n",
        "import statsmodels.api as sm\n",
        "import seaborn as sns\n",
        "import matplotlib.pyplot as plt\n",
        "import warnings\n",
        "from sklearn import linear_model\n",
        "\n",
        "warnings.filterwarnings('ignore')\n",
        "plt.rcParams['figure.figsize'] = (7, 7)\n",
        "plt.style.use('ggplot')"
      ],
      "execution_count": null,
      "outputs": []
    },
    {
      "cell_type": "code",
      "metadata": {
        "id": "x1AGf5IZ_rV8"
      },
      "source": [
        "# Import Dataset\n",
        "df_house = pd.read_csv('https://raw.githubusercontent.com/ihsanmauri/Regresi-Berganda/master/pie-sales.csv', sep =\";\")\n",
        "df_house"
      ],
      "execution_count": null,
      "outputs": []
    }
  ]
}